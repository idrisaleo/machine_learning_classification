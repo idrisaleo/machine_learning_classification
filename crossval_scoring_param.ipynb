{
 "cells": [
  {
   "cell_type": "code",
   "execution_count": 2,
   "id": "b3c1fa2d",
   "metadata": {},
   "outputs": [],
   "source": [
    "import pandas as pd\n",
    "import numpy as np\n",
    "\n",
    "\n",
    "from sklearn.ensemble import RandomForestClassifier\n",
    "from sklearn.metrics import classification_report, accuracy_score, confusion_matrix\n",
    "from sklearn.model_selection import train_test_split, cross_val_score\n"
   ]
  },
  {
   "cell_type": "code",
   "execution_count": 19,
   "id": "85bf1b24",
   "metadata": {
    "scrolled": true
   },
   "outputs": [
    {
     "data": {
      "text/plain": [
       "0.8344092950995938"
      ]
     },
     "execution_count": 19,
     "metadata": {},
     "output_type": "execute_result"
    }
   ],
   "source": [
    "heart_disease = pd.read_csv('heart_disease.csv')\n",
    "heart_disease.isna().sum()\n",
    "heart_disease.head()\n",
    "\n",
    "X = heart_disease.drop('target', axis=1)\n",
    "y = heart_disease['target']\n",
    "\n",
    "\n",
    "np.random.seed(0)\n",
    "clf = RandomForestClassifier()\n",
    "cross_val = cross_val_score(clf, X, y, cv= 5) \n",
    "cross_val\n",
    "\n",
    "\n",
    "## cross_val_score with scoring parameter indicated.......\n",
    "\n",
    "cross_val_precision = cross_val_score(clf, X, y, cv=5, scoring='precision')\n",
    "precision_avg = np.mean(cross_val_precision)\n",
    "precision_avg\n",
    "\n",
    "\n",
    "cross_val_recall = cross_val_score(clf, X, y, cv=5, scoring='recall')\n",
    "recall_avg = np.mean(cross_val_recall)\n",
    "recall_avg\n",
    "\n",
    "cross_val_f1 = cross_val_score(clf, X, y, cv=5, scoring='f1')\n",
    "f1_avg = np.mean(cross_val_f1)\n",
    "f1_avg"
   ]
  },
  {
   "cell_type": "code",
   "execution_count": null,
   "id": "69c8414f",
   "metadata": {},
   "outputs": [],
   "source": []
  }
 ],
 "metadata": {
  "kernelspec": {
   "display_name": "Python 3 (ipykernel)",
   "language": "python",
   "name": "python3"
  },
  "language_info": {
   "codemirror_mode": {
    "name": "ipython",
    "version": 3
   },
   "file_extension": ".py",
   "mimetype": "text/x-python",
   "name": "python",
   "nbconvert_exporter": "python",
   "pygments_lexer": "ipython3",
   "version": "3.9.12"
  }
 },
 "nbformat": 4,
 "nbformat_minor": 5
}
